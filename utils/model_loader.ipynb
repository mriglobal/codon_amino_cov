{
  "cells": [
    {
      "cell_type": "code",
      "execution_count": 7,
      "metadata": {
        "id": "GQ18Kd5F3uKe",
        "colab": {
          "base_uri": "https://localhost:8080/"
        },
        "outputId": "891888ee-fa8f-45c1-f4bc-b9518179a205"
      },
      "outputs": [
        {
          "output_type": "stream",
          "name": "stdout",
          "text": [
            "Requirement already satisfied: pandas in /usr/local/lib/python3.11/dist-packages (2.2.2)\n",
            "Requirement already satisfied: numpy>=1.23.2 in /usr/local/lib/python3.11/dist-packages (from pandas) (1.26.4)\n",
            "Requirement already satisfied: python-dateutil>=2.8.2 in /usr/local/lib/python3.11/dist-packages (from pandas) (2.8.2)\n",
            "Requirement already satisfied: pytz>=2020.1 in /usr/local/lib/python3.11/dist-packages (from pandas) (2025.1)\n",
            "Requirement already satisfied: tzdata>=2022.7 in /usr/local/lib/python3.11/dist-packages (from pandas) (2025.1)\n",
            "Requirement already satisfied: six>=1.5 in /usr/local/lib/python3.11/dist-packages (from python-dateutil>=2.8.2->pandas) (1.17.0)\n",
            "Requirement already satisfied: joblib in /usr/local/lib/python3.11/dist-packages (1.4.2)\n",
            "Requirement already satisfied: scikit-learn in /usr/local/lib/python3.11/dist-packages (1.6.1)\n",
            "Requirement already satisfied: numpy>=1.19.5 in /usr/local/lib/python3.11/dist-packages (from scikit-learn) (1.26.4)\n",
            "Requirement already satisfied: scipy>=1.6.0 in /usr/local/lib/python3.11/dist-packages (from scikit-learn) (1.13.1)\n",
            "Requirement already satisfied: joblib>=1.2.0 in /usr/local/lib/python3.11/dist-packages (from scikit-learn) (1.4.2)\n",
            "Requirement already satisfied: threadpoolctl>=3.1.0 in /usr/local/lib/python3.11/dist-packages (from scikit-learn) (3.5.0)\n",
            "Collecting biopython\n",
            "  Downloading biopython-1.85-cp311-cp311-manylinux_2_17_x86_64.manylinux2014_x86_64.whl.metadata (13 kB)\n",
            "Requirement already satisfied: numpy in /usr/local/lib/python3.11/dist-packages (from biopython) (1.26.4)\n",
            "Downloading biopython-1.85-cp311-cp311-manylinux_2_17_x86_64.manylinux2014_x86_64.whl (3.3 MB)\n",
            "\u001b[2K   \u001b[90m━━━━━━━━━━━━━━━━━━━━━━━━━━━━━━━━━━━━━━━━\u001b[0m \u001b[32m3.3/3.3 MB\u001b[0m \u001b[31m24.8 MB/s\u001b[0m eta \u001b[36m0:00:00\u001b[0m\n",
            "\u001b[?25hInstalling collected packages: biopython\n",
            "Successfully installed biopython-1.85\n"
          ]
        }
      ],
      "source": [
        "!pip install pandas\n",
        "!pip install joblib\n",
        "!pip install scikit-learn\n",
        "!pip install biopython"
      ],
      "id": "GQ18Kd5F3uKe"
    },
    {
      "cell_type": "code",
      "execution_count": 8,
      "id": "e2fa040b",
      "metadata": {
        "id": "e2fa040b"
      },
      "outputs": [],
      "source": [
        "import sys\n",
        "#sys.path.append(\"/home/pdavis/sarissa/utils\") #path to /codon_amino_cov/utils directory in repository\n",
        "from Bio import SeqIO\n",
        "import pandas as pd\n",
        "import glob\n",
        "import joblib"
      ]
    },
    {
      "cell_type": "code",
      "source": [
        "from google.colab import drive\n",
        "drive.mount('/content/drive')"
      ],
      "metadata": {
        "colab": {
          "base_uri": "https://localhost:8080/"
        },
        "id": "Ye1xJX8s1rbn",
        "outputId": "856f3c5f-0408-4b3a-c838-6742ad109c6c"
      },
      "id": "Ye1xJX8s1rbn",
      "execution_count": 1,
      "outputs": [
        {
          "output_type": "stream",
          "name": "stdout",
          "text": [
            "Mounted at /content/drive\n"
          ]
        }
      ]
    },
    {
      "cell_type": "code",
      "execution_count": 9,
      "id": "2c6fcec8",
      "metadata": {
        "id": "2c6fcec8"
      },
      "outputs": [],
      "source": [
        "#model .joblib files\n",
        "model_files = glob.glob(\"/content/drive/MyDrive/codon_amino_rscu_final/codon_amino_rscu_final/orf1ab/codon/*joblib\")"
      ]
    },
    {
      "cell_type": "code",
      "execution_count": null,
      "id": "074e94c1",
      "metadata": {
        "id": "074e94c1"
      },
      "outputs": [],
      "source": [
        "seqs = list(SeqIO.parse(\"\",'fasta')) #CDS fasta file path for inference\n",
        "X = [str(s.seq) for s in seqs]"
      ]
    },
    {
      "cell_type": "code",
      "execution_count": null,
      "id": "1e25c1c6",
      "metadata": {
        "id": "1e25c1c6"
      },
      "outputs": [],
      "source": [
        "#classification results\n",
        "results = pd.DataFrame({\"accession\":[s.id for s in seqs],\"human_pathogen\":model.predict(X)})"
      ]
    }
  ],
  "metadata": {
    "kernelspec": {
      "display_name": "Python 3 (ipykernel)",
      "language": "python",
      "name": "python3"
    },
    "language_info": {
      "codemirror_mode": {
        "name": "ipython",
        "version": 3
      },
      "file_extension": ".py",
      "mimetype": "text/x-python",
      "name": "python",
      "nbconvert_exporter": "python",
      "pygments_lexer": "ipython3",
      "version": "3.8.13"
    },
    "colab": {
      "provenance": []
    }
  },
  "nbformat": 4,
  "nbformat_minor": 5
}